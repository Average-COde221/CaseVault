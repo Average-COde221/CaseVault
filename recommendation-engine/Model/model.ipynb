{
 "cells": [
  {
   "cell_type": "markdown",
   "metadata": {},
   "source": [
    "Steps for model training\n",
    "1. Initial Model training:\n",
    "    1. Scaled the data using Standard Scaler\n",
    "    2. Trained a k-means model to cluster data and measured the Silhoutte Score  \n",
    "    3. Removed the clusters with very few data points from further model training\n",
    "    4. Used the clusters obtained by k-means to classify the data using knn after splitting train and test sets and measured metrics like accuracy, precision, f1 score and recall and discovered data is imbalanced\n",
    "\n",
    "2. Preprocessing Steps:\n",
    "    1. Applied SMOTE\n",
    "    2. Scaled the data using Standard Scaler\n",
    "    3. Reduced dimensionality using truncated SVD\n",
    "\n",
    "3. Retrained the models k-means to obtain the cluster and knn to classify data along those clusters\n",
    "4. Saved the model in .onnx format"
   ]
  },
  {
   "cell_type": "code",
   "execution_count": 1,
   "metadata": {},
   "outputs": [],
   "source": [
    "import numpy as np\n",
    "import pandas as pd\n",
    "from sklearn.neighbors import KNeighborsClassifier\n",
    "from sklearn.model_selection import train_test_split\n",
    "from sklearn.metrics import accuracy_score, precision_score, recall_score, f1_score\n",
    "from sklearn.metrics import confusion_matrix\n",
    "import onnx\n",
    "from skl2onnx import convert_sklearn\n",
    "from skl2onnx.common.data_types import FloatTensorType\n"
   ]
  },
  {
   "cell_type": "code",
   "execution_count": 2,
   "metadata": {},
   "outputs": [],
   "source": [
    "df = pd.read_csv(r\"D:\\hackathons\\CaseVault\\recommendation-engine\\Data\\preprocessed\\preprocessed.csv\")"
   ]
  },
  {
   "cell_type": "code",
   "execution_count": 3,
   "metadata": {},
   "outputs": [
    {
     "data": {
      "text/html": [
       "<div>\n",
       "<style scoped>\n",
       "    .dataframe tbody tr th:only-of-type {\n",
       "        vertical-align: middle;\n",
       "    }\n",
       "\n",
       "    .dataframe tbody tr th {\n",
       "        vertical-align: top;\n",
       "    }\n",
       "\n",
       "    .dataframe thead th {\n",
       "        text-align: right;\n",
       "    }\n",
       "</style>\n",
       "<table border=\"1\" class=\"dataframe\">\n",
       "  <thead>\n",
       "    <tr style=\"text-align: right;\">\n",
       "      <th></th>\n",
       "      <th>Unnamed: 0</th>\n",
       "      <th>component_1</th>\n",
       "      <th>component_2</th>\n",
       "      <th>component_3</th>\n",
       "      <th>component_4</th>\n",
       "      <th>component_5</th>\n",
       "      <th>component_6</th>\n",
       "      <th>component_7</th>\n",
       "      <th>component_8</th>\n",
       "      <th>component_9</th>\n",
       "      <th>...</th>\n",
       "      <th>4990</th>\n",
       "      <th>4991</th>\n",
       "      <th>4992</th>\n",
       "      <th>4993</th>\n",
       "      <th>4994</th>\n",
       "      <th>4995</th>\n",
       "      <th>4996</th>\n",
       "      <th>4997</th>\n",
       "      <th>4998</th>\n",
       "      <th>4999</th>\n",
       "    </tr>\n",
       "  </thead>\n",
       "  <tbody>\n",
       "    <tr>\n",
       "      <th>0</th>\n",
       "      <td>0</td>\n",
       "      <td>1.632583</td>\n",
       "      <td>-0.377532</td>\n",
       "      <td>0.421133</td>\n",
       "      <td>-0.572584</td>\n",
       "      <td>-0.131109</td>\n",
       "      <td>-0.001156</td>\n",
       "      <td>-0.595789</td>\n",
       "      <td>0.847357</td>\n",
       "      <td>0.465964</td>\n",
       "      <td>...</td>\n",
       "      <td>0.0</td>\n",
       "      <td>0.0</td>\n",
       "      <td>0.0</td>\n",
       "      <td>0.0</td>\n",
       "      <td>0.000000</td>\n",
       "      <td>0.0</td>\n",
       "      <td>0.0</td>\n",
       "      <td>0.0</td>\n",
       "      <td>0.0</td>\n",
       "      <td>0.0</td>\n",
       "    </tr>\n",
       "    <tr>\n",
       "      <th>1</th>\n",
       "      <td>1</td>\n",
       "      <td>0.789583</td>\n",
       "      <td>-0.498816</td>\n",
       "      <td>-0.599629</td>\n",
       "      <td>-0.231379</td>\n",
       "      <td>0.016958</td>\n",
       "      <td>-0.591930</td>\n",
       "      <td>0.450830</td>\n",
       "      <td>-0.418475</td>\n",
       "      <td>0.848181</td>\n",
       "      <td>...</td>\n",
       "      <td>0.0</td>\n",
       "      <td>0.0</td>\n",
       "      <td>0.0</td>\n",
       "      <td>0.0</td>\n",
       "      <td>0.000000</td>\n",
       "      <td>0.0</td>\n",
       "      <td>0.0</td>\n",
       "      <td>0.0</td>\n",
       "      <td>0.0</td>\n",
       "      <td>0.0</td>\n",
       "    </tr>\n",
       "    <tr>\n",
       "      <th>2</th>\n",
       "      <td>2</td>\n",
       "      <td>0.849633</td>\n",
       "      <td>-0.589849</td>\n",
       "      <td>-0.655112</td>\n",
       "      <td>0.592220</td>\n",
       "      <td>-0.308401</td>\n",
       "      <td>-0.145752</td>\n",
       "      <td>-0.058529</td>\n",
       "      <td>-0.074482</td>\n",
       "      <td>-0.161176</td>\n",
       "      <td>...</td>\n",
       "      <td>0.0</td>\n",
       "      <td>0.0</td>\n",
       "      <td>0.0</td>\n",
       "      <td>0.0</td>\n",
       "      <td>0.000000</td>\n",
       "      <td>0.0</td>\n",
       "      <td>0.0</td>\n",
       "      <td>0.0</td>\n",
       "      <td>0.0</td>\n",
       "      <td>0.0</td>\n",
       "    </tr>\n",
       "    <tr>\n",
       "      <th>3</th>\n",
       "      <td>3</td>\n",
       "      <td>0.783255</td>\n",
       "      <td>-0.403721</td>\n",
       "      <td>-0.562864</td>\n",
       "      <td>-0.392344</td>\n",
       "      <td>0.119531</td>\n",
       "      <td>-0.196019</td>\n",
       "      <td>-0.411185</td>\n",
       "      <td>0.621779</td>\n",
       "      <td>0.221999</td>\n",
       "      <td>...</td>\n",
       "      <td>0.0</td>\n",
       "      <td>0.0</td>\n",
       "      <td>0.0</td>\n",
       "      <td>0.0</td>\n",
       "      <td>0.000000</td>\n",
       "      <td>0.0</td>\n",
       "      <td>0.0</td>\n",
       "      <td>0.0</td>\n",
       "      <td>0.0</td>\n",
       "      <td>0.0</td>\n",
       "    </tr>\n",
       "    <tr>\n",
       "      <th>4</th>\n",
       "      <td>4</td>\n",
       "      <td>1.219752</td>\n",
       "      <td>-0.394178</td>\n",
       "      <td>-0.025055</td>\n",
       "      <td>-0.374735</td>\n",
       "      <td>0.006981</td>\n",
       "      <td>-0.212935</td>\n",
       "      <td>-0.390794</td>\n",
       "      <td>0.635433</td>\n",
       "      <td>0.208640</td>\n",
       "      <td>...</td>\n",
       "      <td>0.0</td>\n",
       "      <td>0.0</td>\n",
       "      <td>0.0</td>\n",
       "      <td>0.0</td>\n",
       "      <td>0.025314</td>\n",
       "      <td>0.0</td>\n",
       "      <td>0.0</td>\n",
       "      <td>0.0</td>\n",
       "      <td>0.0</td>\n",
       "      <td>0.0</td>\n",
       "    </tr>\n",
       "    <tr>\n",
       "      <th>...</th>\n",
       "      <td>...</td>\n",
       "      <td>...</td>\n",
       "      <td>...</td>\n",
       "      <td>...</td>\n",
       "      <td>...</td>\n",
       "      <td>...</td>\n",
       "      <td>...</td>\n",
       "      <td>...</td>\n",
       "      <td>...</td>\n",
       "      <td>...</td>\n",
       "      <td>...</td>\n",
       "      <td>...</td>\n",
       "      <td>...</td>\n",
       "      <td>...</td>\n",
       "      <td>...</td>\n",
       "      <td>...</td>\n",
       "      <td>...</td>\n",
       "      <td>...</td>\n",
       "      <td>...</td>\n",
       "      <td>...</td>\n",
       "      <td>...</td>\n",
       "    </tr>\n",
       "    <tr>\n",
       "      <th>10995</th>\n",
       "      <td>10995</td>\n",
       "      <td>0.778033</td>\n",
       "      <td>-0.405470</td>\n",
       "      <td>-0.574456</td>\n",
       "      <td>-0.375656</td>\n",
       "      <td>0.141227</td>\n",
       "      <td>-0.197933</td>\n",
       "      <td>-0.382736</td>\n",
       "      <td>0.574690</td>\n",
       "      <td>0.182558</td>\n",
       "      <td>...</td>\n",
       "      <td>0.0</td>\n",
       "      <td>0.0</td>\n",
       "      <td>0.0</td>\n",
       "      <td>0.0</td>\n",
       "      <td>0.000000</td>\n",
       "      <td>0.0</td>\n",
       "      <td>0.0</td>\n",
       "      <td>0.0</td>\n",
       "      <td>0.0</td>\n",
       "      <td>0.0</td>\n",
       "    </tr>\n",
       "    <tr>\n",
       "      <th>10996</th>\n",
       "      <td>10996</td>\n",
       "      <td>0.768899</td>\n",
       "      <td>-0.398344</td>\n",
       "      <td>-0.559442</td>\n",
       "      <td>-0.361337</td>\n",
       "      <td>0.128174</td>\n",
       "      <td>-0.201218</td>\n",
       "      <td>-0.381377</td>\n",
       "      <td>0.576052</td>\n",
       "      <td>0.197655</td>\n",
       "      <td>...</td>\n",
       "      <td>0.0</td>\n",
       "      <td>0.0</td>\n",
       "      <td>0.0</td>\n",
       "      <td>0.0</td>\n",
       "      <td>0.000000</td>\n",
       "      <td>0.0</td>\n",
       "      <td>0.0</td>\n",
       "      <td>0.0</td>\n",
       "      <td>0.0</td>\n",
       "      <td>0.0</td>\n",
       "    </tr>\n",
       "    <tr>\n",
       "      <th>10997</th>\n",
       "      <td>10997</td>\n",
       "      <td>1.639517</td>\n",
       "      <td>-0.587959</td>\n",
       "      <td>0.457809</td>\n",
       "      <td>0.675293</td>\n",
       "      <td>-0.637100</td>\n",
       "      <td>-0.181253</td>\n",
       "      <td>-0.134810</td>\n",
       "      <td>0.019063</td>\n",
       "      <td>-0.071621</td>\n",
       "      <td>...</td>\n",
       "      <td>0.0</td>\n",
       "      <td>0.0</td>\n",
       "      <td>0.0</td>\n",
       "      <td>0.0</td>\n",
       "      <td>0.000000</td>\n",
       "      <td>0.0</td>\n",
       "      <td>0.0</td>\n",
       "      <td>0.0</td>\n",
       "      <td>0.0</td>\n",
       "      <td>0.0</td>\n",
       "    </tr>\n",
       "    <tr>\n",
       "      <th>10998</th>\n",
       "      <td>10998</td>\n",
       "      <td>0.976004</td>\n",
       "      <td>-0.870889</td>\n",
       "      <td>-0.440822</td>\n",
       "      <td>1.160238</td>\n",
       "      <td>0.708630</td>\n",
       "      <td>0.226552</td>\n",
       "      <td>0.098795</td>\n",
       "      <td>0.148528</td>\n",
       "      <td>-0.160238</td>\n",
       "      <td>...</td>\n",
       "      <td>0.0</td>\n",
       "      <td>0.0</td>\n",
       "      <td>0.0</td>\n",
       "      <td>0.0</td>\n",
       "      <td>0.000000</td>\n",
       "      <td>0.0</td>\n",
       "      <td>0.0</td>\n",
       "      <td>0.0</td>\n",
       "      <td>0.0</td>\n",
       "      <td>0.0</td>\n",
       "    </tr>\n",
       "    <tr>\n",
       "      <th>10999</th>\n",
       "      <td>10999</td>\n",
       "      <td>2.012788</td>\n",
       "      <td>0.946509</td>\n",
       "      <td>0.313753</td>\n",
       "      <td>0.069384</td>\n",
       "      <td>-0.097999</td>\n",
       "      <td>-0.001187</td>\n",
       "      <td>-0.042426</td>\n",
       "      <td>0.038410</td>\n",
       "      <td>0.082273</td>\n",
       "      <td>...</td>\n",
       "      <td>0.0</td>\n",
       "      <td>0.0</td>\n",
       "      <td>0.0</td>\n",
       "      <td>0.0</td>\n",
       "      <td>0.000000</td>\n",
       "      <td>0.0</td>\n",
       "      <td>0.0</td>\n",
       "      <td>0.0</td>\n",
       "      <td>0.0</td>\n",
       "      <td>0.0</td>\n",
       "    </tr>\n",
       "  </tbody>\n",
       "</table>\n",
       "<p>11000 rows × 5102 columns</p>\n",
       "</div>"
      ],
      "text/plain": [
       "       Unnamed: 0  component_1  component_2  component_3  component_4  \\\n",
       "0               0     1.632583    -0.377532     0.421133    -0.572584   \n",
       "1               1     0.789583    -0.498816    -0.599629    -0.231379   \n",
       "2               2     0.849633    -0.589849    -0.655112     0.592220   \n",
       "3               3     0.783255    -0.403721    -0.562864    -0.392344   \n",
       "4               4     1.219752    -0.394178    -0.025055    -0.374735   \n",
       "...           ...          ...          ...          ...          ...   \n",
       "10995       10995     0.778033    -0.405470    -0.574456    -0.375656   \n",
       "10996       10996     0.768899    -0.398344    -0.559442    -0.361337   \n",
       "10997       10997     1.639517    -0.587959     0.457809     0.675293   \n",
       "10998       10998     0.976004    -0.870889    -0.440822     1.160238   \n",
       "10999       10999     2.012788     0.946509     0.313753     0.069384   \n",
       "\n",
       "       component_5  component_6  component_7  component_8  component_9  ...  \\\n",
       "0        -0.131109    -0.001156    -0.595789     0.847357     0.465964  ...   \n",
       "1         0.016958    -0.591930     0.450830    -0.418475     0.848181  ...   \n",
       "2        -0.308401    -0.145752    -0.058529    -0.074482    -0.161176  ...   \n",
       "3         0.119531    -0.196019    -0.411185     0.621779     0.221999  ...   \n",
       "4         0.006981    -0.212935    -0.390794     0.635433     0.208640  ...   \n",
       "...            ...          ...          ...          ...          ...  ...   \n",
       "10995     0.141227    -0.197933    -0.382736     0.574690     0.182558  ...   \n",
       "10996     0.128174    -0.201218    -0.381377     0.576052     0.197655  ...   \n",
       "10997    -0.637100    -0.181253    -0.134810     0.019063    -0.071621  ...   \n",
       "10998     0.708630     0.226552     0.098795     0.148528    -0.160238  ...   \n",
       "10999    -0.097999    -0.001187    -0.042426     0.038410     0.082273  ...   \n",
       "\n",
       "       4990  4991  4992  4993      4994  4995  4996  4997  4998  4999  \n",
       "0       0.0   0.0   0.0   0.0  0.000000   0.0   0.0   0.0   0.0   0.0  \n",
       "1       0.0   0.0   0.0   0.0  0.000000   0.0   0.0   0.0   0.0   0.0  \n",
       "2       0.0   0.0   0.0   0.0  0.000000   0.0   0.0   0.0   0.0   0.0  \n",
       "3       0.0   0.0   0.0   0.0  0.000000   0.0   0.0   0.0   0.0   0.0  \n",
       "4       0.0   0.0   0.0   0.0  0.025314   0.0   0.0   0.0   0.0   0.0  \n",
       "...     ...   ...   ...   ...       ...   ...   ...   ...   ...   ...  \n",
       "10995   0.0   0.0   0.0   0.0  0.000000   0.0   0.0   0.0   0.0   0.0  \n",
       "10996   0.0   0.0   0.0   0.0  0.000000   0.0   0.0   0.0   0.0   0.0  \n",
       "10997   0.0   0.0   0.0   0.0  0.000000   0.0   0.0   0.0   0.0   0.0  \n",
       "10998   0.0   0.0   0.0   0.0  0.000000   0.0   0.0   0.0   0.0   0.0  \n",
       "10999   0.0   0.0   0.0   0.0  0.000000   0.0   0.0   0.0   0.0   0.0  \n",
       "\n",
       "[11000 rows x 5102 columns]"
      ]
     },
     "execution_count": 3,
     "metadata": {},
     "output_type": "execute_result"
    }
   ],
   "source": [
    "df"
   ]
  },
  {
   "cell_type": "code",
   "execution_count": 4,
   "metadata": {},
   "outputs": [],
   "source": [
    "df = df.drop('Unnamed: 0',axis=1)"
   ]
  },
  {
   "cell_type": "code",
   "execution_count": 5,
   "metadata": {},
   "outputs": [
    {
     "data": {
      "text/html": [
       "<div>\n",
       "<style scoped>\n",
       "    .dataframe tbody tr th:only-of-type {\n",
       "        vertical-align: middle;\n",
       "    }\n",
       "\n",
       "    .dataframe tbody tr th {\n",
       "        vertical-align: top;\n",
       "    }\n",
       "\n",
       "    .dataframe thead th {\n",
       "        text-align: right;\n",
       "    }\n",
       "</style>\n",
       "<table border=\"1\" class=\"dataframe\">\n",
       "  <thead>\n",
       "    <tr style=\"text-align: right;\">\n",
       "      <th></th>\n",
       "      <th>component_1</th>\n",
       "      <th>component_2</th>\n",
       "      <th>component_3</th>\n",
       "      <th>component_4</th>\n",
       "      <th>component_5</th>\n",
       "      <th>component_6</th>\n",
       "      <th>component_7</th>\n",
       "      <th>component_8</th>\n",
       "      <th>component_9</th>\n",
       "      <th>component_10</th>\n",
       "      <th>...</th>\n",
       "      <th>4990</th>\n",
       "      <th>4991</th>\n",
       "      <th>4992</th>\n",
       "      <th>4993</th>\n",
       "      <th>4994</th>\n",
       "      <th>4995</th>\n",
       "      <th>4996</th>\n",
       "      <th>4997</th>\n",
       "      <th>4998</th>\n",
       "      <th>4999</th>\n",
       "    </tr>\n",
       "  </thead>\n",
       "  <tbody>\n",
       "    <tr>\n",
       "      <th>0</th>\n",
       "      <td>1.632583</td>\n",
       "      <td>-0.377532</td>\n",
       "      <td>0.421133</td>\n",
       "      <td>-0.572584</td>\n",
       "      <td>-0.131109</td>\n",
       "      <td>-0.001156</td>\n",
       "      <td>-0.595789</td>\n",
       "      <td>0.847357</td>\n",
       "      <td>0.465964</td>\n",
       "      <td>-0.257247</td>\n",
       "      <td>...</td>\n",
       "      <td>0.0</td>\n",
       "      <td>0.0</td>\n",
       "      <td>0.0</td>\n",
       "      <td>0.0</td>\n",
       "      <td>0.000000</td>\n",
       "      <td>0.0</td>\n",
       "      <td>0.0</td>\n",
       "      <td>0.0</td>\n",
       "      <td>0.0</td>\n",
       "      <td>0.0</td>\n",
       "    </tr>\n",
       "    <tr>\n",
       "      <th>1</th>\n",
       "      <td>0.789583</td>\n",
       "      <td>-0.498816</td>\n",
       "      <td>-0.599629</td>\n",
       "      <td>-0.231379</td>\n",
       "      <td>0.016958</td>\n",
       "      <td>-0.591930</td>\n",
       "      <td>0.450830</td>\n",
       "      <td>-0.418475</td>\n",
       "      <td>0.848181</td>\n",
       "      <td>-0.488616</td>\n",
       "      <td>...</td>\n",
       "      <td>0.0</td>\n",
       "      <td>0.0</td>\n",
       "      <td>0.0</td>\n",
       "      <td>0.0</td>\n",
       "      <td>0.000000</td>\n",
       "      <td>0.0</td>\n",
       "      <td>0.0</td>\n",
       "      <td>0.0</td>\n",
       "      <td>0.0</td>\n",
       "      <td>0.0</td>\n",
       "    </tr>\n",
       "    <tr>\n",
       "      <th>2</th>\n",
       "      <td>0.849633</td>\n",
       "      <td>-0.589849</td>\n",
       "      <td>-0.655112</td>\n",
       "      <td>0.592220</td>\n",
       "      <td>-0.308401</td>\n",
       "      <td>-0.145752</td>\n",
       "      <td>-0.058529</td>\n",
       "      <td>-0.074482</td>\n",
       "      <td>-0.161176</td>\n",
       "      <td>0.132598</td>\n",
       "      <td>...</td>\n",
       "      <td>0.0</td>\n",
       "      <td>0.0</td>\n",
       "      <td>0.0</td>\n",
       "      <td>0.0</td>\n",
       "      <td>0.000000</td>\n",
       "      <td>0.0</td>\n",
       "      <td>0.0</td>\n",
       "      <td>0.0</td>\n",
       "      <td>0.0</td>\n",
       "      <td>0.0</td>\n",
       "    </tr>\n",
       "    <tr>\n",
       "      <th>3</th>\n",
       "      <td>0.783255</td>\n",
       "      <td>-0.403721</td>\n",
       "      <td>-0.562864</td>\n",
       "      <td>-0.392344</td>\n",
       "      <td>0.119531</td>\n",
       "      <td>-0.196019</td>\n",
       "      <td>-0.411185</td>\n",
       "      <td>0.621779</td>\n",
       "      <td>0.221999</td>\n",
       "      <td>0.307248</td>\n",
       "      <td>...</td>\n",
       "      <td>0.0</td>\n",
       "      <td>0.0</td>\n",
       "      <td>0.0</td>\n",
       "      <td>0.0</td>\n",
       "      <td>0.000000</td>\n",
       "      <td>0.0</td>\n",
       "      <td>0.0</td>\n",
       "      <td>0.0</td>\n",
       "      <td>0.0</td>\n",
       "      <td>0.0</td>\n",
       "    </tr>\n",
       "    <tr>\n",
       "      <th>4</th>\n",
       "      <td>1.219752</td>\n",
       "      <td>-0.394178</td>\n",
       "      <td>-0.025055</td>\n",
       "      <td>-0.374735</td>\n",
       "      <td>0.006981</td>\n",
       "      <td>-0.212935</td>\n",
       "      <td>-0.390794</td>\n",
       "      <td>0.635433</td>\n",
       "      <td>0.208640</td>\n",
       "      <td>0.287776</td>\n",
       "      <td>...</td>\n",
       "      <td>0.0</td>\n",
       "      <td>0.0</td>\n",
       "      <td>0.0</td>\n",
       "      <td>0.0</td>\n",
       "      <td>0.025314</td>\n",
       "      <td>0.0</td>\n",
       "      <td>0.0</td>\n",
       "      <td>0.0</td>\n",
       "      <td>0.0</td>\n",
       "      <td>0.0</td>\n",
       "    </tr>\n",
       "    <tr>\n",
       "      <th>...</th>\n",
       "      <td>...</td>\n",
       "      <td>...</td>\n",
       "      <td>...</td>\n",
       "      <td>...</td>\n",
       "      <td>...</td>\n",
       "      <td>...</td>\n",
       "      <td>...</td>\n",
       "      <td>...</td>\n",
       "      <td>...</td>\n",
       "      <td>...</td>\n",
       "      <td>...</td>\n",
       "      <td>...</td>\n",
       "      <td>...</td>\n",
       "      <td>...</td>\n",
       "      <td>...</td>\n",
       "      <td>...</td>\n",
       "      <td>...</td>\n",
       "      <td>...</td>\n",
       "      <td>...</td>\n",
       "      <td>...</td>\n",
       "      <td>...</td>\n",
       "    </tr>\n",
       "    <tr>\n",
       "      <th>10995</th>\n",
       "      <td>0.778033</td>\n",
       "      <td>-0.405470</td>\n",
       "      <td>-0.574456</td>\n",
       "      <td>-0.375656</td>\n",
       "      <td>0.141227</td>\n",
       "      <td>-0.197933</td>\n",
       "      <td>-0.382736</td>\n",
       "      <td>0.574690</td>\n",
       "      <td>0.182558</td>\n",
       "      <td>0.283897</td>\n",
       "      <td>...</td>\n",
       "      <td>0.0</td>\n",
       "      <td>0.0</td>\n",
       "      <td>0.0</td>\n",
       "      <td>0.0</td>\n",
       "      <td>0.000000</td>\n",
       "      <td>0.0</td>\n",
       "      <td>0.0</td>\n",
       "      <td>0.0</td>\n",
       "      <td>0.0</td>\n",
       "      <td>0.0</td>\n",
       "    </tr>\n",
       "    <tr>\n",
       "      <th>10996</th>\n",
       "      <td>0.768899</td>\n",
       "      <td>-0.398344</td>\n",
       "      <td>-0.559442</td>\n",
       "      <td>-0.361337</td>\n",
       "      <td>0.128174</td>\n",
       "      <td>-0.201218</td>\n",
       "      <td>-0.381377</td>\n",
       "      <td>0.576052</td>\n",
       "      <td>0.197655</td>\n",
       "      <td>0.280361</td>\n",
       "      <td>...</td>\n",
       "      <td>0.0</td>\n",
       "      <td>0.0</td>\n",
       "      <td>0.0</td>\n",
       "      <td>0.0</td>\n",
       "      <td>0.000000</td>\n",
       "      <td>0.0</td>\n",
       "      <td>0.0</td>\n",
       "      <td>0.0</td>\n",
       "      <td>0.0</td>\n",
       "      <td>0.0</td>\n",
       "    </tr>\n",
       "    <tr>\n",
       "      <th>10997</th>\n",
       "      <td>1.639517</td>\n",
       "      <td>-0.587959</td>\n",
       "      <td>0.457809</td>\n",
       "      <td>0.675293</td>\n",
       "      <td>-0.637100</td>\n",
       "      <td>-0.181253</td>\n",
       "      <td>-0.134810</td>\n",
       "      <td>0.019063</td>\n",
       "      <td>-0.071621</td>\n",
       "      <td>0.150423</td>\n",
       "      <td>...</td>\n",
       "      <td>0.0</td>\n",
       "      <td>0.0</td>\n",
       "      <td>0.0</td>\n",
       "      <td>0.0</td>\n",
       "      <td>0.000000</td>\n",
       "      <td>0.0</td>\n",
       "      <td>0.0</td>\n",
       "      <td>0.0</td>\n",
       "      <td>0.0</td>\n",
       "      <td>0.0</td>\n",
       "    </tr>\n",
       "    <tr>\n",
       "      <th>10998</th>\n",
       "      <td>0.976004</td>\n",
       "      <td>-0.870889</td>\n",
       "      <td>-0.440822</td>\n",
       "      <td>1.160238</td>\n",
       "      <td>0.708630</td>\n",
       "      <td>0.226552</td>\n",
       "      <td>0.098795</td>\n",
       "      <td>0.148528</td>\n",
       "      <td>-0.160238</td>\n",
       "      <td>-0.200619</td>\n",
       "      <td>...</td>\n",
       "      <td>0.0</td>\n",
       "      <td>0.0</td>\n",
       "      <td>0.0</td>\n",
       "      <td>0.0</td>\n",
       "      <td>0.000000</td>\n",
       "      <td>0.0</td>\n",
       "      <td>0.0</td>\n",
       "      <td>0.0</td>\n",
       "      <td>0.0</td>\n",
       "      <td>0.0</td>\n",
       "    </tr>\n",
       "    <tr>\n",
       "      <th>10999</th>\n",
       "      <td>2.012788</td>\n",
       "      <td>0.946509</td>\n",
       "      <td>0.313753</td>\n",
       "      <td>0.069384</td>\n",
       "      <td>-0.097999</td>\n",
       "      <td>-0.001187</td>\n",
       "      <td>-0.042426</td>\n",
       "      <td>0.038410</td>\n",
       "      <td>0.082273</td>\n",
       "      <td>-0.030529</td>\n",
       "      <td>...</td>\n",
       "      <td>0.0</td>\n",
       "      <td>0.0</td>\n",
       "      <td>0.0</td>\n",
       "      <td>0.0</td>\n",
       "      <td>0.000000</td>\n",
       "      <td>0.0</td>\n",
       "      <td>0.0</td>\n",
       "      <td>0.0</td>\n",
       "      <td>0.0</td>\n",
       "      <td>0.0</td>\n",
       "    </tr>\n",
       "  </tbody>\n",
       "</table>\n",
       "<p>11000 rows × 5101 columns</p>\n",
       "</div>"
      ],
      "text/plain": [
       "       component_1  component_2  component_3  component_4  component_5  \\\n",
       "0         1.632583    -0.377532     0.421133    -0.572584    -0.131109   \n",
       "1         0.789583    -0.498816    -0.599629    -0.231379     0.016958   \n",
       "2         0.849633    -0.589849    -0.655112     0.592220    -0.308401   \n",
       "3         0.783255    -0.403721    -0.562864    -0.392344     0.119531   \n",
       "4         1.219752    -0.394178    -0.025055    -0.374735     0.006981   \n",
       "...            ...          ...          ...          ...          ...   \n",
       "10995     0.778033    -0.405470    -0.574456    -0.375656     0.141227   \n",
       "10996     0.768899    -0.398344    -0.559442    -0.361337     0.128174   \n",
       "10997     1.639517    -0.587959     0.457809     0.675293    -0.637100   \n",
       "10998     0.976004    -0.870889    -0.440822     1.160238     0.708630   \n",
       "10999     2.012788     0.946509     0.313753     0.069384    -0.097999   \n",
       "\n",
       "       component_6  component_7  component_8  component_9  component_10  ...  \\\n",
       "0        -0.001156    -0.595789     0.847357     0.465964     -0.257247  ...   \n",
       "1        -0.591930     0.450830    -0.418475     0.848181     -0.488616  ...   \n",
       "2        -0.145752    -0.058529    -0.074482    -0.161176      0.132598  ...   \n",
       "3        -0.196019    -0.411185     0.621779     0.221999      0.307248  ...   \n",
       "4        -0.212935    -0.390794     0.635433     0.208640      0.287776  ...   \n",
       "...            ...          ...          ...          ...           ...  ...   \n",
       "10995    -0.197933    -0.382736     0.574690     0.182558      0.283897  ...   \n",
       "10996    -0.201218    -0.381377     0.576052     0.197655      0.280361  ...   \n",
       "10997    -0.181253    -0.134810     0.019063    -0.071621      0.150423  ...   \n",
       "10998     0.226552     0.098795     0.148528    -0.160238     -0.200619  ...   \n",
       "10999    -0.001187    -0.042426     0.038410     0.082273     -0.030529  ...   \n",
       "\n",
       "       4990  4991  4992  4993      4994  4995  4996  4997  4998  4999  \n",
       "0       0.0   0.0   0.0   0.0  0.000000   0.0   0.0   0.0   0.0   0.0  \n",
       "1       0.0   0.0   0.0   0.0  0.000000   0.0   0.0   0.0   0.0   0.0  \n",
       "2       0.0   0.0   0.0   0.0  0.000000   0.0   0.0   0.0   0.0   0.0  \n",
       "3       0.0   0.0   0.0   0.0  0.000000   0.0   0.0   0.0   0.0   0.0  \n",
       "4       0.0   0.0   0.0   0.0  0.025314   0.0   0.0   0.0   0.0   0.0  \n",
       "...     ...   ...   ...   ...       ...   ...   ...   ...   ...   ...  \n",
       "10995   0.0   0.0   0.0   0.0  0.000000   0.0   0.0   0.0   0.0   0.0  \n",
       "10996   0.0   0.0   0.0   0.0  0.000000   0.0   0.0   0.0   0.0   0.0  \n",
       "10997   0.0   0.0   0.0   0.0  0.000000   0.0   0.0   0.0   0.0   0.0  \n",
       "10998   0.0   0.0   0.0   0.0  0.000000   0.0   0.0   0.0   0.0   0.0  \n",
       "10999   0.0   0.0   0.0   0.0  0.000000   0.0   0.0   0.0   0.0   0.0  \n",
       "\n",
       "[11000 rows x 5101 columns]"
      ]
     },
     "execution_count": 5,
     "metadata": {},
     "output_type": "execute_result"
    }
   ],
   "source": [
    "df"
   ]
  },
  {
   "cell_type": "code",
   "execution_count": 6,
   "metadata": {},
   "outputs": [],
   "source": [
    "from sklearn.preprocessing import StandardScaler\n",
    "scaler = StandardScaler()\n",
    "X_scaled = scaler.fit_transform(df.iloc[:, :-1])  \n"
   ]
  },
  {
   "cell_type": "code",
   "execution_count": 7,
   "metadata": {},
   "outputs": [],
   "source": [
    "from sklearn.cluster import KMeans\n",
    "\n",
    "kmeans = KMeans(n_clusters=4, random_state=42)\n",
    "df['cluster'] = kmeans.fit_predict(X_scaled)  "
   ]
  },
  {
   "cell_type": "code",
   "execution_count": 8,
   "metadata": {},
   "outputs": [
    {
     "name": "stdout",
     "output_type": "stream",
     "text": [
      "Silhouette Score: 0.07\n"
     ]
    }
   ],
   "source": [
    "from sklearn.metrics import silhouette_score\n",
    "\n",
    "silhouette_avg = silhouette_score(X_scaled, df['cluster'])\n",
    "print(f\"Silhouette Score: {silhouette_avg:.2f}\")\n"
   ]
  },
  {
   "cell_type": "code",
   "execution_count": 9,
   "metadata": {},
   "outputs": [
    {
     "name": "stdout",
     "output_type": "stream",
     "text": [
      "cluster\n",
      "1    10730\n",
      "0      267\n",
      "3        2\n",
      "2        1\n",
      "Name: count, dtype: int64\n"
     ]
    }
   ],
   "source": [
    "print(df['cluster'].value_counts())\n"
   ]
  },
  {
   "cell_type": "code",
   "execution_count": 10,
   "metadata": {},
   "outputs": [],
   "source": [
    "valid_clusters = df['cluster'].value_counts()[df['cluster'].value_counts() > 1].index\n",
    "df_filtered = df[df['cluster'].isin(valid_clusters)]\n",
    "\n",
    "train_data, test_data = train_test_split(df_filtered, test_size=0.3, stratify=df_filtered['cluster'], random_state=42)\n",
    "\n",
    "X_train, y_train = train_data.iloc[:, :-1], train_data['cluster']\n",
    "X_test, y_test = test_data.iloc[:, :-1], test_data['cluster']\n"
   ]
  },
  {
   "cell_type": "code",
   "execution_count": 11,
   "metadata": {},
   "outputs": [
    {
     "name": "stdout",
     "output_type": "stream",
     "text": [
      "cluster\n",
      "1    10730\n",
      "0      267\n",
      "3        2\n",
      "2        1\n",
      "Name: count, dtype: int64\n"
     ]
    }
   ],
   "source": [
    "print(df['cluster'].value_counts())\n"
   ]
  },
  {
   "cell_type": "code",
   "execution_count": 12,
   "metadata": {},
   "outputs": [],
   "source": [
    "knn = KNeighborsClassifier(n_neighbors=3, metric='cosine')\n",
    "knn.fit(X_train, y_train)\n",
    "y_pred = knn.predict(X_test)"
   ]
  },
  {
   "cell_type": "code",
   "execution_count": 13,
   "metadata": {},
   "outputs": [
    {
     "name": "stdout",
     "output_type": "stream",
     "text": [
      "Accuracy: 1.00\n",
      "Precision: 0.65\n",
      "Recall: 0.65\n",
      "F1-Score: 0.65\n"
     ]
    },
    {
     "name": "stderr",
     "output_type": "stream",
     "text": [
      "c:\\Users\\Uday\\miniconda3\\envs\\trekathon\\Lib\\site-packages\\sklearn\\metrics\\_classification.py:1531: UndefinedMetricWarning: Precision is ill-defined and being set to 0.0 in labels with no predicted samples. Use `zero_division` parameter to control this behavior.\n",
      "  _warn_prf(average, modifier, f\"{metric.capitalize()} is\", len(result))\n"
     ]
    }
   ],
   "source": [
    "accuracy = accuracy_score(y_test, y_pred)\n",
    "precision = precision_score(y_test, y_pred, average='macro')\n",
    "recall = recall_score(y_test, y_pred, average='macro')\n",
    "f1 = f1_score(y_test, y_pred, average='macro')\n",
    "\n",
    "print(f\"Accuracy: {accuracy:.2f}\")\n",
    "print(f\"Precision: {precision:.2f}\")\n",
    "print(f\"Recall: {recall:.2f}\")\n",
    "print(f\"F1-Score: {f1:.2f}\")"
   ]
  },
  {
   "cell_type": "code",
   "execution_count": 14,
   "metadata": {},
   "outputs": [],
   "source": [
    "from imblearn.over_sampling import SMOTE\n",
    "X = df.drop(columns=['cluster'])  \n",
    "y = df['cluster']"
   ]
  },
  {
   "cell_type": "code",
   "execution_count": 15,
   "metadata": {},
   "outputs": [],
   "source": [
    "X_train, X_test, y_train, y_test = train_test_split(X, y, test_size=0.3, random_state=42)\n"
   ]
  },
  {
   "cell_type": "code",
   "execution_count": 16,
   "metadata": {},
   "outputs": [],
   "source": [
    "min_class_size = 5\n",
    "class_counts = y_train.value_counts()\n",
    "\n",
    "valid_classes = class_counts[class_counts >= min_class_size].index\n",
    "X_train_filtered = X_train[y_train.isin(valid_classes)]\n",
    "y_train_filtered = y_train[y_train.isin(valid_classes)]\n",
    "\n",
    "smote = SMOTE(sampling_strategy='auto', random_state=42)\n",
    "X_resampled, y_resampled = smote.fit_resample(X_train_filtered, y_train_filtered)\n"
   ]
  },
  {
   "cell_type": "code",
   "execution_count": 17,
   "metadata": {},
   "outputs": [],
   "source": [
    "scaler = StandardScaler()\n",
    "X_resampled_scaled = scaler.fit_transform(X_resampled)\n"
   ]
  },
  {
   "cell_type": "code",
   "execution_count": 18,
   "metadata": {},
   "outputs": [
    {
     "data": {
      "text/plain": [
       "(15018, 5101)"
      ]
     },
     "execution_count": 18,
     "metadata": {},
     "output_type": "execute_result"
    }
   ],
   "source": [
    "X_resampled_scaled.shape"
   ]
  },
  {
   "cell_type": "code",
   "execution_count": 19,
   "metadata": {},
   "outputs": [
    {
     "data": {
      "text/plain": [
       "(3300, 5101)"
      ]
     },
     "execution_count": 19,
     "metadata": {},
     "output_type": "execute_result"
    }
   ],
   "source": [
    "X_test.shape"
   ]
  },
  {
   "cell_type": "code",
   "execution_count": 20,
   "metadata": {},
   "outputs": [
    {
     "data": {
      "text/plain": [
       "(7700, 5101)"
      ]
     },
     "execution_count": 20,
     "metadata": {},
     "output_type": "execute_result"
    }
   ],
   "source": [
    "X_train.shape"
   ]
  },
  {
   "cell_type": "code",
   "execution_count": 21,
   "metadata": {},
   "outputs": [
    {
     "data": {
      "text/plain": [
       "(15018, 5101)"
      ]
     },
     "execution_count": 21,
     "metadata": {},
     "output_type": "execute_result"
    }
   ],
   "source": [
    "X_resampled.shape"
   ]
  },
  {
   "cell_type": "code",
   "execution_count": 22,
   "metadata": {},
   "outputs": [
    {
     "name": "stderr",
     "output_type": "stream",
     "text": [
      "c:\\Users\\Uday\\miniconda3\\envs\\trekathon\\Lib\\site-packages\\sklearn\\base.py:486: UserWarning: X has feature names, but TruncatedSVD was fitted without feature names\n",
      "  warnings.warn(\n"
     ]
    }
   ],
   "source": [
    "from sklearn.decomposition import TruncatedSVD\n",
    "\n",
    "n_components = 300  \n",
    "\n",
    "svd = TruncatedSVD(n_components=n_components, random_state=42)\n",
    "\n",
    "X_train_reduced = svd.fit_transform(X_resampled_scaled)  \n",
    "\n",
    "X_test_reduced = svd.transform(X_test) "
   ]
  },
  {
   "cell_type": "code",
   "execution_count": 23,
   "metadata": {},
   "outputs": [
    {
     "data": {
      "text/plain": [
       "(15018, 300)"
      ]
     },
     "execution_count": 23,
     "metadata": {},
     "output_type": "execute_result"
    }
   ],
   "source": [
    "X_train_reduced.shape"
   ]
  },
  {
   "cell_type": "code",
   "execution_count": 24,
   "metadata": {},
   "outputs": [
    {
     "data": {
      "text/plain": [
       "(3300, 300)"
      ]
     },
     "execution_count": 24,
     "metadata": {},
     "output_type": "execute_result"
    }
   ],
   "source": [
    "X_test_reduced.shape"
   ]
  },
  {
   "cell_type": "code",
   "execution_count": 25,
   "metadata": {},
   "outputs": [
    {
     "name": "stdout",
     "output_type": "stream",
     "text": [
      "Cluster Centers:\n",
      " [[-8.11438707e+00 -5.93399439e+00  1.91056423e+00 ... -9.95348681e-03\n",
      "  -1.15643707e-01 -3.87733614e-02]\n",
      " [-5.92913522e+00 -9.61871828e+00  3.31982716e+00 ... -5.75955896e-02\n",
      "   3.46736996e-02 -7.54095684e-02]\n",
      " [-1.13541170e+01 -8.83961749e+00  8.20260442e-01 ...  3.02092751e-02\n",
      "   2.37585080e-02 -5.74879239e-03]\n",
      " [ 9.96436532e+00  3.33363416e-01 -4.07365678e-01 ...  9.30082398e-03\n",
      "  -4.35840056e-03  9.42246655e-04]\n",
      " [-1.06691815e+01  5.49890608e+00 -5.87419462e-01 ... -1.02472440e-02\n",
      "  -9.37799562e-03  2.24155888e-02]]\n",
      "Number of samples in each cluster: [  72 1269 1655 7520 4502]\n"
     ]
    }
   ],
   "source": [
    "kmeans = KMeans(n_clusters=5, random_state=42)\n",
    "kmeans.fit(X_train_reduced)\n",
    "\n",
    "cluster_assignments = kmeans.labels_\n",
    "\n",
    "print(\"Cluster Centers:\\n\", kmeans.cluster_centers_)\n",
    "print(\"Number of samples in each cluster:\", np.bincount(cluster_assignments))"
   ]
  },
  {
   "cell_type": "code",
   "execution_count": 26,
   "metadata": {},
   "outputs": [
    {
     "name": "stdout",
     "output_type": "stream",
     "text": [
      "Silhouette Score: 0.0582\n"
     ]
    }
   ],
   "source": [
    "silhouette_avg = silhouette_score(X_train_reduced, kmeans.labels_)\n",
    "\n",
    "print(f\"Silhouette Score: {silhouette_avg:.4f}\")\n"
   ]
  },
  {
   "cell_type": "code",
   "execution_count": 27,
   "metadata": {},
   "outputs": [
    {
     "data": {
      "text/plain": [
       "(15018,)"
      ]
     },
     "execution_count": 27,
     "metadata": {},
     "output_type": "execute_result"
    }
   ],
   "source": [
    "y_resampled.shape"
   ]
  },
  {
   "cell_type": "code",
   "execution_count": 28,
   "metadata": {},
   "outputs": [],
   "source": [
    "knn = KNeighborsClassifier(n_neighbors=5)\n",
    "knn.fit(X_train_reduced, y_resampled)  \n",
    "\n",
    "y_pred = knn.predict(X_test_reduced) "
   ]
  },
  {
   "cell_type": "code",
   "execution_count": 29,
   "metadata": {},
   "outputs": [
    {
     "name": "stdout",
     "output_type": "stream",
     "text": [
      "Accuracy: 0.9761\n",
      "Precision: 0.9527\n",
      "Recall: 0.9761\n",
      "F1-Score: 0.9642\n",
      "Confusion Matrix:\n",
      "[[   0   77    0    0]\n",
      " [   0 3221    0    0]\n",
      " [   0    1    0    0]\n",
      " [   0    1    0    0]]\n"
     ]
    },
    {
     "name": "stderr",
     "output_type": "stream",
     "text": [
      "c:\\Users\\Uday\\miniconda3\\envs\\trekathon\\Lib\\site-packages\\sklearn\\metrics\\_classification.py:1531: UndefinedMetricWarning: Precision is ill-defined and being set to 0.0 in labels with no predicted samples. Use `zero_division` parameter to control this behavior.\n",
      "  _warn_prf(average, modifier, f\"{metric.capitalize()} is\", len(result))\n"
     ]
    }
   ],
   "source": [
    "accuracy = accuracy_score(y_test, y_pred)\n",
    "precision = precision_score(y_test, y_pred, average='weighted')\n",
    "recall = recall_score(y_test, y_pred, average='weighted')\n",
    "f1 = f1_score(y_test, y_pred, average='weighted')\n",
    "conf_matrix = confusion_matrix(y_test, y_pred)\n",
    "\n",
    "print(f\"Accuracy: {accuracy:.4f}\")\n",
    "print(f\"Precision: {precision:.4f}\")\n",
    "print(f\"Recall: {recall:.4f}\")\n",
    "print(f\"F1-Score: {f1:.4f}\")\n",
    "print(\"Confusion Matrix:\")\n",
    "print(conf_matrix)"
   ]
  },
  {
   "cell_type": "code",
   "execution_count": 30,
   "metadata": {},
   "outputs": [],
   "source": [
    "kmeans_onnx = convert_sklearn(kmeans, initial_types=[('input', FloatTensorType([None, X_train_reduced.shape[1]]))])\n",
    "with open(\"kmeans_model.onnx\", \"wb\") as f:\n",
    "    f.write(kmeans_onnx.SerializeToString())"
   ]
  },
  {
   "cell_type": "code",
   "execution_count": 31,
   "metadata": {},
   "outputs": [],
   "source": [
    "knn_onnx = convert_sklearn(knn, initial_types=[('input', FloatTensorType([None, X_train_reduced.shape[1]]))])\n",
    "with open(\"knn_model.onnx\", \"wb\") as f:\n",
    "    f.write(knn_onnx.SerializeToString())"
   ]
  },
  {
   "cell_type": "code",
   "execution_count": null,
   "metadata": {},
   "outputs": [],
   "source": []
  }
 ],
 "metadata": {
  "kernelspec": {
   "display_name": "trekathon",
   "language": "python",
   "name": "python3"
  },
  "language_info": {
   "codemirror_mode": {
    "name": "ipython",
    "version": 3
   },
   "file_extension": ".py",
   "mimetype": "text/x-python",
   "name": "python",
   "nbconvert_exporter": "python",
   "pygments_lexer": "ipython3",
   "version": "3.13.1"
  }
 },
 "nbformat": 4,
 "nbformat_minor": 2
}
